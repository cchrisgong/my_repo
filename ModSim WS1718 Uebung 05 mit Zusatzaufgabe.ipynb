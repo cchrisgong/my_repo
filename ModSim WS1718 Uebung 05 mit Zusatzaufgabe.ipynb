{
 "cells": [
  {
   "cell_type": "markdown",
   "metadata": {
    "collapsed": true
   },
   "source": [
    "## Simulation und Modellierung WS16/17 - Uebung 05"
   ]
  },
  {
   "cell_type": "markdown",
   "metadata": {},
   "source": [
    "### Aufgabe 1 : verallgemeinerte Fibonacci Zahlen"
   ]
  },
  {
   "cell_type": "markdown",
   "metadata": {},
   "source": [
    "Schreiben Sie eine Funktion `AllgFib(F0=1,F1=1,a=1,b=1,N=3)`, welche die ersten `N` Folgeglieder der verallgemeinerten Fibonaccifolge\n",
    "\n",
    "$$\n",
    "    F_{n+1} = a F_n + b F_{n-1}\n",
    "$$\n",
    "\n",
    "mit den Anfangsbedingungen $F_0=$ `F0` und $F_1=$ `F1` berechnet und als Liste ausgibt. (Achtung : Die Definition in der Vorlesung war etwas anders)\n",
    "\n",
    "Schreiben Sie eine Funktion `my_sqrt(x)`, welche mit Hilfe der verallgemeinerten Fibonacci Zahlen die Wurzel aus `x` bis auf Maschinengenauigkeit ausrechnet. Berechnen Sie $\\sqrt{2}$ mit dieser Funktion. \n",
    "\n",
    "*Hinweis :* Iterieren Sie die Fibonacci Folge schrittweise bis sich das Verhaeltnis aufeinanderfolgender Zahlen nicht mehr aendert."
   ]
  },
  {
   "cell_type": "code",
   "execution_count": 1,
   "metadata": {
    "collapsed": false
   },
   "outputs": [
    {
     "name": "stdout",
     "output_type": "stream",
     "text": [
      "1\n",
      "1\n",
      "2\n",
      "3\n",
      "5\n",
      "8\n",
      "13\n",
      "21\n",
      "34\n",
      "55\n",
      "89\n",
      "144\n",
      "233\n",
      "377\n",
      "610\n",
      "987\n",
      "1597\n",
      "2584\n",
      "4181\n",
      "6765\n",
      "10946\n",
      "17711\n",
      "28657\n",
      "46368\n",
      "75025\n",
      "121393\n",
      "196418\n",
      "317811\n",
      "514229\n"
     ]
    }
   ],
   "source": [
    "#es fehlt in allgemein die Kommentierung, z.B. Beschreibung von Funktionen, Eingaben Ausgaben, for-loops, etc (-20)\n",
    "\n",
    "def AllgFib(F0=1,F1=1,a=1,b=1,N=3):\n",
    "    f_n = F1\n",
    "    f_nme = F0\n",
    "    print(F0)\n",
    "    print(F1)\n",
    "    for x in range (N):\n",
    "        f_npe=a*f_n+b*f_nme\n",
    "        print(f_npe)\n",
    "        \n",
    "        f_nme=f_n\n",
    "        f_n=f_npe\n",
    "        \n",
    "AllgFib(N=27)"
   ]
  },
  {
   "cell_type": "code",
   "execution_count": 2,
   "metadata": {
    "collapsed": false
   },
   "outputs": [
    {
     "name": "stdout",
     "output_type": "stream",
     "text": [
      "1.414213562373095\n"
     ]
    }
   ],
   "source": [
    "def AllgFib(F0=1,F1=1,a=1,b=1,N=3):\n",
    "    f_n = F1\n",
    "    f_nme = F0\n",
    "    c=0\n",
    "    while 1:\n",
    "        f_npe = a*f_n+b*f_nme\n",
    "        f_nme=f_n\n",
    "        f_n=f_npe\n",
    "        if c==f_n/f_nme:\n",
    "            return f_n/f_nme\n",
    "            break \n",
    "        c=f_n/f_nme\n",
    "        \n",
    "my_sqrt = lambda x : AllgFib(1,1,2,x-1,10)-1\n",
    "print(my_sqrt(2))"
   ]
  },
  {
   "cell_type": "markdown",
   "metadata": {},
   "source": [
    "### Aufgabe 2 : Collatz-Problem"
   ]
  },
  {
   "cell_type": "markdown",
   "metadata": {},
   "source": [
    "Wir betrachten die folgende Abbildung ueber den *positiven* natuerlichen Zahlen\n",
    "\n",
    "$$\n",
    "    f(n) = \\left\\lbrace \\begin{array}{ll}\n",
    "                            {}n/2 \\qquad &,\\textrm{falls }n\\textrm{ gerade} \\\\\n",
    "                            3n+1\\qquad &,\\textrm{falls }n\\textrm{ ungerade}\n",
    "                        \\end{array}\n",
    "           \\right.\n",
    "$$\n",
    "\n",
    "sowie die natuerliche Zahl $\\tau(n)$ welche angibt, wie of $f$ iteriert werden muss, bis man die Zahl 1 erreicht, d.h.\n",
    "\n",
    "$$\n",
    "    \\left(f\\circ\\right)^{\\tau(n)}(n) = 1\n",
    "$$"
   ]
  },
  {
   "cell_type": "markdown",
   "metadata": {},
   "source": [
    "Schreiben Sie eine Funktion `tau(n)`, welche diese Zahl berechnet. Berechnen Sie eine Liste `L` der Werte $\\tau(n)$ fuer die ersten `2**20` positiven natuerlichen Zahlen und plotten diese mit\n",
    "\n",
    "```python\n",
    "    from pylab import *\n",
    "    plot(L,'.') # nur Punkte setzen, ohne diese zu verbinden\n",
    "    show()\n",
    "```"
   ]
  },
  {
   "cell_type": "markdown",
   "metadata": {},
   "source": [
    "<a href=\"https://en.wikipedia.org/wiki/Collatz_conjecture\">Collatz-Problem @ Wikipedia</a><br>\n",
    "Collatz-Problem @ xkcd : <img src=\"http://imgs.xkcd.com/comics/collatz_conjecture.png\">"
   ]
  },
  {
   "cell_type": "code",
   "execution_count": 1,
   "metadata": {
    "collapsed": false
   },
   "outputs": [
    {
     "name": "stdout",
     "output_type": "stream",
     "text": [
      "76\n",
      "38.0\n",
      "19.0\n",
      "58.0\n",
      "29.0\n",
      "88.0\n",
      "44.0\n",
      "22.0\n",
      "11.0\n",
      "34.0\n",
      "17.0\n",
      "52.0\n",
      "26.0\n",
      "13.0\n",
      "40.0\n",
      "20.0\n",
      "10.0\n",
      "5.0\n",
      "16.0\n",
      "8.0\n",
      "4.0\n",
      "2.0\n",
      "1.0\n"
     ]
    },
    {
     "data": {
      "text/plain": [
       "23"
      ]
     },
     "execution_count": 1,
     "metadata": {},
     "output_type": "execute_result"
    }
   ],
   "source": [
    "def collatz(x):\n",
    "    i=0\n",
    "    while x!=1:\n",
    "        i=i+1\n",
    "        if x%2==0:\n",
    "            x=x/2\n",
    "        else:\n",
    "            x=x*3+1\n",
    "        print(x)\n",
    "    return (i)\n",
    "\n",
    "collatz(25)"
   ]
  },
  {
   "cell_type": "code",
   "execution_count": 4,
   "metadata": {
    "collapsed": false
   },
   "outputs": [
    {
     "name": "stdout",
     "output_type": "stream",
     "text": [
      "524288.0\n",
      "262144.0\n",
      "131072.0\n",
      "65536.0\n",
      "32768.0\n",
      "16384.0\n",
      "8192.0\n",
      "4096.0\n",
      "2048.0\n",
      "1024.0\n",
      "512.0\n",
      "256.0\n",
      "128.0\n",
      "64.0\n",
      "32.0\n",
      "16.0\n",
      "8.0\n",
      "4.0\n",
      "2.0\n",
      "1.0\n",
      "[]\n"
     ]
    },
    {
     "data": {
      "image/png": "[encoded data removed]",
      "text/plain": [
       "<matplotlib.figure.Figure at 0x7fcdf0986c18>"
      ]
     },
     "metadata": {},
     "output_type": "display_data"
    }
   ],
   "source": [
    "from pylab import *\n",
    "L=[n for n in range(collatz(2**20)) if n==2**20] #L=[collatz(x) for x in range(1,2**20)]\n",
    "#hier L is leer (-10)\n",
    "plot(L,'.')\n",
    "show()"
   ]
  },
  {
   "cell_type": "markdown",
   "metadata": {},
   "source": [
    "### Zusatzaufgabe (+10%):"
   ]
  },
  {
   "cell_type": "markdown",
   "metadata": {},
   "source": [
    "- Wie lautet die Taylorentwicklung von $f(x) = \\sqrt{1+x}$ ?\n",
    "- Schreiben Sie eine Funktion `sqrt1px(x,eps=0)`, welche die Taylorreihe bis auf eine gegebene Genauigkeit $\\varepsilon$, bzw. bis zur Konvergenz $\\varepsilon=0$ berechnet.\n",
    "- berechnen Sie $\\sqrt{2}$ als `sqrt1px(1.0)` bzw. `1.0/sqrt1px(-0.5)`."
   ]
  },
  {
   "cell_type": "code",
   "execution_count": null,
   "metadata": {
    "collapsed": true
   },
   "outputs": [],
   "source": []
  }
 ],
 "metadata": {
  "anaconda-cloud": {},
  "kernelspec": {
   "display_name": "Python [default]",
   "language": "python",
   "name": "python3"
  },
  "language_info": {
   "codemirror_mode": {
    "name": "ipython",
    "version": 3
   },
   "file_extension": ".py",
   "mimetype": "text/x-python",
   "name": "python",
   "nbconvert_exporter": "python",
   "pygments_lexer": "ipython3",
   "version": "3.5.2"
  }
 },
 "nbformat": 4,
 "nbformat_minor": 1
}
